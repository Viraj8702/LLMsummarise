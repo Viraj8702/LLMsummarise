{
 "cells": [
  {
   "cell_type": "code",
   "execution_count": 6,
   "metadata": {},
   "outputs": [],
   "source": [
    "import os\n",
    "import pandas as pd\n"
   ]
  },
  {
   "cell_type": "code",
   "execution_count": 7,
   "metadata": {},
   "outputs": [
    {
     "name": "stdout",
     "output_type": "stream",
     "text": [
      "Total pdfs =  18\n",
      "PDF names:\n",
      "INQ000350057.pdf\n",
      "INQ000350094.pdf\n",
      "INQ000350513.pdf\n",
      "INQ000350691.pdf\n",
      "INQ000383581.pdf\n",
      "INQ000383585.pdf\n",
      "INQ000383998.pdf\n",
      "INQ000385719.pdf\n",
      "INQ000395589.pdf\n",
      "INQ000395913.pdf\n",
      "INQ000396684.pdf\n",
      "INQ000396685.pdf\n",
      "INQ000396686.pdf\n",
      "INQ000400585.pdf\n",
      "INQ000412042.pdf\n",
      "PHT000000014.pdf\n",
      "PHT000000030.pdf\n",
      "PHT000000039.pdf\n"
     ]
    }
   ],
   "source": [
    "# directory holding the sample of 18 pdfs\n",
    "samplepdf = '../1.Web Scrapping/PDF'\n",
    "\n",
    "# capturing all the pdfs\n",
    "# allpdf = os.listdir(samplepdf)\n",
    "pdffile = os.listdir(samplepdf)\n",
    "\n",
    "# displaying total number of pdfs used\n",
    "totalpdfs = len(pdffile)\n",
    "\n",
    "print(\"Total pdfs = \",totalpdfs)\n",
    "\n",
    "print(\"PDF names:\")\n",
    "allfiles=[]\n",
    "for pdf in pdffile:\n",
    "    allfiles.append(pdf)\n",
    "\n",
    "for names in allfiles:\n",
    "    print(names)\n",
    "    "
   ]
  },
  {
   "cell_type": "code",
   "execution_count": 8,
   "metadata": {},
   "outputs": [
    {
     "name": "stdout",
     "output_type": "stream",
     "text": [
      "INQ000350057.pdf\n",
      "INQ000350094.pdf\n",
      "INQ000350513.pdf\n",
      "INQ000350691.pdf\n",
      "INQ000383581.pdf\n",
      "INQ000383585.pdf\n",
      "INQ000383998.pdf\n",
      "INQ000385719.pdf\n",
      "INQ000395589.pdf\n",
      "INQ000395913.pdf\n",
      "INQ000396684.pdf\n",
      "INQ000396685.pdf\n",
      "INQ000396686.pdf\n",
      "INQ000400585.pdf\n",
      "INQ000412042.pdf\n",
      "15\n"
     ]
    }
   ],
   "source": [
    "considerfile=[filename for filename in allfiles if filename.startswith(\"INQ\")]\n",
    "\n",
    "\n",
    "# filtering to use only pdf which has INQ number in filename [Note: these are evidence docs]\n",
    "for filename in considerfile:\n",
    "    print(filename)\n",
    "\n",
    "\n",
    "considerPDFcount=len(considerfile)\n",
    "# number of pdf documents\n",
    "print(considerPDFcount)\n"
   ]
  },
  {
   "cell_type": "markdown",
   "metadata": {},
   "source": [
    "## Using PyPDF"
   ]
  },
  {
   "cell_type": "code",
   "execution_count": 9,
   "metadata": {},
   "outputs": [
    {
     "name": "stdout",
     "output_type": "stream",
     "text": [
      "INQ000350057.pdf\n",
      "INQ000350094.pdf\n",
      "INQ000350513.pdf\n",
      "INQ000350691.pdf\n",
      "INQ000383581.pdf\n",
      "INQ000383585.pdf\n",
      "INQ000383998.pdf\n",
      "INQ000385719.pdf\n",
      "INQ000395589.pdf\n",
      "INQ000395913.pdf\n",
      "INQ000396684.pdf\n",
      "INQ000396685.pdf\n",
      "INQ000396686.pdf\n",
      "INQ000400585.pdf\n",
      "INQ000412042.pdf\n"
     ]
    }
   ],
   "source": [
    "import os\n",
    "import re\n",
    "from pypdf import PdfReader\n",
    "\n",
    "def pypdfextract(pdffiles):\n",
    "    with open(pdffiles, 'rb') as f:\n",
    "        # reading the content\n",
    "        reader = PdfReader(f)\n",
    "        results = []\n",
    "\n",
    "        for page in reader.pages:\n",
    "            # extracting the content\n",
    "            text = page.extract_text()\n",
    "            if text:\n",
    "                results.append(text)\n",
    "\n",
    "        # all the words are separate with spaces\n",
    "        alltexts = ' '.join(results)\n",
    "        \n",
    "        return alltexts\n",
    "\n",
    "textdocspypdf = 'PYPDF1/PYPDF1docs/'\n",
    "#if directory is not present, create it\n",
    "os.makedirs(textdocspypdf, exist_ok=True)\n",
    "\n",
    "for i in range(0, considerPDFcount):\n",
    "    try:\n",
    "        # pdfs with INQ\n",
    "        filename = considerfile[i]\n",
    "        print(filename)\n",
    "        \n",
    "        # extracting the text from the directory\n",
    "        extractedtext = pypdfextract(f'../1.Web Scrapping/PDF/{filename}')\n",
    "        file = os.path.splitext(filename)[0]\n",
    "        # storing the text in directory\n",
    "        with open(os.path.join(textdocspypdf, f'{file}.txt'), 'w', encoding='utf-8') as f:\n",
    "            f.write(extractedtext)\n",
    "    except Exception as e:\n",
    "        print(f\"Exception for PDF {filename} as {e}\")\n"
   ]
  },
  {
   "cell_type": "markdown",
   "metadata": {},
   "source": [
    "## Using only PYPDF2 library\n"
   ]
  },
  {
   "cell_type": "code",
   "execution_count": 12,
   "metadata": {},
   "outputs": [],
   "source": [
    "import PyPDF2\n",
    "import os"
   ]
  },
  {
   "cell_type": "code",
   "execution_count": 13,
   "metadata": {},
   "outputs": [
    {
     "name": "stdout",
     "output_type": "stream",
     "text": [
      "INQ000350057.pdf\n",
      "INQ000350094.pdf\n",
      "INQ000350513.pdf\n",
      "INQ000350691.pdf\n",
      "INQ000383581.pdf\n",
      "INQ000383585.pdf\n",
      "INQ000383998.pdf\n",
      "INQ000385719.pdf\n",
      "INQ000395589.pdf\n",
      "INQ000395913.pdf\n",
      "INQ000396684.pdf\n",
      "INQ000396685.pdf\n",
      "INQ000396686.pdf\n",
      "INQ000400585.pdf\n",
      "INQ000412042.pdf\n"
     ]
    }
   ],
   "source": [
    "def pydf2extract(pdffiles):\n",
    "\n",
    "    with open(pdffiles,'rb') as f:\n",
    "        reader = PyPDF2.PdfReader(f)\n",
    "    \n",
    "        results = []\n",
    "\n",
    "        for page in (reader.pages):\n",
    "            \n",
    "            text = page.extract_text()\n",
    "            if text:\n",
    "                results.append(text)\n",
    "    return ' '.join(results) # convert list to a single doc \n",
    "\n",
    "textdocspypdf='PYPDF2/PYPDF2docs/'\n",
    "#if directory is not present, create it\n",
    "os.makedirs(textdocspypdf, exist_ok=True)\n",
    "\n",
    "for i in range(0,considerPDFcount):\n",
    "    try:\n",
    "        # pdfs with INQ\n",
    "        filename=considerfile[i]\n",
    "        print(filename)\n",
    "        \n",
    "        # extracting the text from the pdf\n",
    "        extractedtext = pydf2extract(f'../1.Web Scrapping/PDF/{filename}')\n",
    "        file = os.path.splitext(filename)[0]\n",
    "        # creating and storing the result into the directory\n",
    "        with open(os.path.join(textdocspypdf, f'{file}.txt'), 'w', encoding='utf-8') as f:\n",
    "            f.write(extractedtext)\n",
    "    except Exception as e:\n",
    "        print(f\"Exception for PDF {filename} as {e}\")\n"
   ]
  },
  {
   "cell_type": "markdown",
   "metadata": {},
   "source": [
    "## Using PYMUDF extraction"
   ]
  },
  {
   "cell_type": "code",
   "execution_count": 6,
   "metadata": {},
   "outputs": [
    {
     "name": "stdout",
     "output_type": "stream",
     "text": [
      "INQ000350057.pdf\n",
      "INQ000350094.pdf\n",
      "INQ000350513.pdf\n",
      "INQ000350691.pdf\n",
      "INQ000383581.pdf\n",
      "INQ000383585.pdf\n",
      "INQ000383998.pdf\n",
      "INQ000385719.pdf\n",
      "INQ000395589.pdf\n",
      "INQ000395913.pdf\n",
      "INQ000396684.pdf\n",
      "INQ000396685.pdf\n",
      "INQ000396686.pdf\n",
      "INQ000400585.pdf\n",
      "INQ000412042.pdf\n"
     ]
    }
   ],
   "source": [
    "import os\n",
    "import fitz\n",
    "\n",
    "def pymupdfextract(PDF_File):\n",
    "    doc = fitz.open(PDF_File)\n",
    "    results=[]\n",
    "    for eachpage in range(len(doc)):\n",
    "            page = doc.load_page(eachpage)\n",
    "            # page content from pdfs are extracted\n",
    "            text = page.get_text()\n",
    "            results.append(text)\n",
    "        \n",
    "    doc.close()\n",
    "      \n",
    "    return \"\\n\".join(results)\n",
    "\n",
    "textdocspymu='PymuPDF/PymuPDFDocs'\n",
    "#if directory is not present, create it\n",
    "os.makedirs(textdocspymu, exist_ok=True)\n",
    "\n",
    "for i in range(0,considerPDFcount):\n",
    "    try:\n",
    "        # pdfs with INQ\n",
    "        filename=considerfile[i]\n",
    "        print(filename)\n",
    "        \n",
    "        # extracting the text from the directory\n",
    "        extractedtext = pymupdfextract(f'../1.Web Scrapping/PDF/{filename}')\n",
    "        file = os.path.splitext(filename)[0]\n",
    "        # storing the text in directory\n",
    "        with open(os.path.join(textdocspymu, f'{file}.txt'), 'w', encoding='utf-8') as f:\n",
    "            f.write(extractedtext)\n",
    "    except Exception as e:\n",
    "        print(f\"Exception for PDF {filename} as {e}\")\n"
   ]
  },
  {
   "cell_type": "markdown",
   "metadata": {},
   "source": [
    "## Using Pytesseract library"
   ]
  },
  {
   "cell_type": "code",
   "execution_count": 12,
   "metadata": {},
   "outputs": [
    {
     "name": "stdout",
     "output_type": "stream",
     "text": [
      "INQ000350057.pdf\n",
      "INQ000350094.pdf\n",
      "INQ000350513.pdf\n",
      "INQ000350691.pdf\n",
      "INQ000383581.pdf\n",
      "INQ000383585.pdf\n",
      "INQ000383998.pdf\n",
      "INQ000385719.pdf\n",
      "INQ000395589.pdf\n",
      "INQ000395913.pdf\n",
      "INQ000396684.pdf\n",
      "INQ000396685.pdf\n",
      "INQ000396686.pdf\n",
      "INQ000400585.pdf\n",
      "INQ000412042.pdf\n"
     ]
    }
   ],
   "source": [
    "# pdflist which has the random sample of documents from the downloaded PDFdocs directory\n",
    "import os\n",
    "from PIL import Image\n",
    "import pytesseract\n",
    "from io import BytesIO\n",
    "import fitz  \n",
    "\n",
    "# installation of the tesseract.exe is required\n",
    "# link to downlaod tessearact https://github.com/UB-Mannheim/tesseract/wiki\n",
    "# once installed, save it into directory and below is the line of code which is using the directory where, the tesseract.exe is located\n",
    "pytesseract.pytesseract.tesseract_cmd = r'F:\\viraj\\Tesseract\\tesseract.exe'\n",
    "\n",
    "def pytesseractextract(pdfpath):\n",
    "    results = []\n",
    "\n",
    "    try:\n",
    "        doc = fitz.open(pdfpath)\n",
    "\n",
    "        for eachpage in range(len(doc)):\n",
    "            page = doc.load_page(eachpage)\n",
    "\n",
    "            for img in page.get_images(full=True):\n",
    "                # reference id of the image\n",
    "                ref = img[0]\n",
    "                # extracting the image data using reference id\n",
    "                baseimg = doc.extract_image(ref)\n",
    "                # binary data of image is obtained\n",
    "                bytesimg = baseimg[\"image\"]\n",
    "                # loading the image from binary data\n",
    "                image = Image.open(BytesIO(bytesimg))\n",
    "                # capturing text from the images\n",
    "                imgtext = pytesseract.image_to_string(image)\n",
    "\n",
    "                results.append(imgtext)\n",
    "\n",
    "        doc.close()\n",
    "    \n",
    "    except Exception as e:\n",
    "        print(f\"Error extracting text from {pdfpath}: {e}\")\n",
    "    \n",
    "    return \"\\n\".join(results)\n",
    "\n",
    "textdocspytes = 'Pytesseract/PytesseractDocs'\n",
    "#if directory is not present, create it\n",
    "os.makedirs(textdocspytes, exist_ok=True)\n",
    "\n",
    "\n",
    "for i in range(0,considerPDFcount):\n",
    "    try:\n",
    "        # pdfs with INQ\n",
    "        filename=considerfile[i]\n",
    "        print(filename)\n",
    "        # function to extract text\n",
    "        extractedtext = pytesseractextract(f'../1.Web Scrapping/PDF/{filename}')\n",
    "        file = os.path.splitext(filename)[0]\n",
    "        # storing the text in directory\n",
    "        with open(os.path.join(textdocspytes, f'{file}.txt'), 'w', encoding='utf-8') as f:\n",
    "            f.write(extractedtext)\n",
    "    except Exception as e:\n",
    "        print(f\"Exception for PDF {filename} as {e}\")\n"
   ]
  },
  {
   "cell_type": "markdown",
   "metadata": {},
   "source": [
    "## PDFPlumber Library"
   ]
  },
  {
   "cell_type": "code",
   "execution_count": 7,
   "metadata": {},
   "outputs": [
    {
     "name": "stdout",
     "output_type": "stream",
     "text": [
      "INQ000350057.pdf\n",
      "INQ000350094.pdf\n",
      "INQ000350513.pdf\n",
      "INQ000350691.pdf\n",
      "INQ000383581.pdf\n",
      "INQ000383585.pdf\n",
      "INQ000383998.pdf\n",
      "INQ000385719.pdf\n",
      "INQ000395589.pdf\n",
      "INQ000395913.pdf\n",
      "INQ000396684.pdf\n",
      "INQ000396685.pdf\n",
      "INQ000396686.pdf\n",
      "INQ000400585.pdf\n",
      "INQ000412042.pdf\n"
     ]
    }
   ],
   "source": [
    "import pdfplumber\n",
    "import os\n",
    "\n",
    "def pdfplumberextract(pdffiles):\n",
    "    results = []\n",
    "    with pdfplumber.open(pdffiles) as pdf:\n",
    "        for page in pdf.pages:\n",
    "            # extracting the content\n",
    "            text = page.extract_text()\n",
    "            if text:\n",
    "                results.append(text)\n",
    "\n",
    "    return ' '.join(results)\n",
    "\n",
    "textdocspdfplumber = 'PDFPlumber/PdfPlumberDocs'\n",
    "# if directory is not present, create it\n",
    "os.makedirs(textdocspdfplumber, exist_ok=True)\n",
    "\n",
    "\n",
    "for i in range(0, considerPDFcount):\n",
    "    try:\n",
    "        # pdfs with INQ\n",
    "        filename = considerfile[i]\n",
    "        print(filename)\n",
    "        \n",
    "        # function to extract text from pdfs \n",
    "        extractedtext = pdfplumberextract(f'../1.Web Scrapping/PDF/{filename}')\n",
    "        file = os.path.splitext(filename)[0]\n",
    "        \n",
    "        # storing the text in directory\n",
    "        with open(os.path.join(textdocspdfplumber, f'{file}.txt'), 'w', encoding='utf-8') as f:\n",
    "            f.write(extractedtext)\n",
    "    except Exception as e:\n",
    "        print(f\"Exception for PDF {filename} as {e}\")\n"
   ]
  },
  {
   "cell_type": "markdown",
   "metadata": {},
   "source": [
    "## TIKA Library"
   ]
  },
  {
   "cell_type": "code",
   "execution_count": 9,
   "metadata": {},
   "outputs": [
    {
     "name": "stdout",
     "output_type": "stream",
     "text": [
      "INQ000350057.pdf\n",
      "INQ000350094.pdf\n",
      "INQ000350513.pdf\n",
      "INQ000350691.pdf\n",
      "INQ000383581.pdf\n",
      "INQ000383585.pdf\n",
      "INQ000383998.pdf\n",
      "INQ000385719.pdf\n",
      "INQ000395589.pdf\n",
      "INQ000395913.pdf\n",
      "INQ000396684.pdf\n",
      "INQ000396685.pdf\n",
      "INQ000396686.pdf\n",
      "INQ000400585.pdf\n",
      "INQ000412042.pdf\n"
     ]
    }
   ],
   "source": [
    "import os\n",
    "from tika import parser\n",
    "\n",
    "\n",
    "def tikaextract(pdffile):\n",
    "    try:\n",
    "        # extracting content from pdfs\n",
    "        parsed = parser.from_file(pdffile)\n",
    "        return parsed['content']\n",
    "    except Exception as e:\n",
    "        print(f\"Exception for file {pdffile}: {e}\")\n",
    "        return ''\n",
    "\n",
    "textdocstika = 'TIKA/TIKAdocs/'\n",
    "# if directory is not present, create it\n",
    "os.makedirs(textdocstika, exist_ok=True)\n",
    "\n",
    "\n",
    "for i in range(considerPDFcount):\n",
    "    try:\n",
    "        # pdfs with INQ\n",
    "        filename = considerfile[i]\n",
    "        print(f'{filename}')\n",
    "        \n",
    "        # defining function to extract text from pdfs\n",
    "        extractedtext = tikaextract(f'../1.Web Scrapping/PDF/{filename}')\n",
    "        file = os.path.splitext(filename)[0]\n",
    "        \n",
    "        # storing the text in directory\n",
    "        with open(os.path.join(textdocstika, f'{file}.txt'), 'w', encoding='utf-8') as f:\n",
    "            f.write(extractedtext.strip())  # remove whitespaces after extraction\n",
    "    except Exception as e:\n",
    "        print(f\"Exception for PDF {filename}: {e}\")\n"
   ]
  },
  {
   "cell_type": "markdown",
   "metadata": {},
   "source": [
    "## PDFMiner"
   ]
  },
  {
   "cell_type": "code",
   "execution_count": 10,
   "metadata": {},
   "outputs": [
    {
     "name": "stdout",
     "output_type": "stream",
     "text": [
      "INQ000350057.pdf\n",
      "INQ000350094.pdf\n",
      "INQ000350513.pdf\n",
      "INQ000350691.pdf\n",
      "INQ000383581.pdf\n",
      "INQ000383585.pdf\n",
      "INQ000383998.pdf\n",
      "INQ000385719.pdf\n",
      "INQ000395589.pdf\n",
      "INQ000395913.pdf\n",
      "INQ000396684.pdf\n",
      "INQ000396685.pdf\n",
      "INQ000396686.pdf\n",
      "INQ000400585.pdf\n",
      "INQ000412042.pdf\n"
     ]
    }
   ],
   "source": [
    "import os\n",
    "from pdfminer.high_level import extract_text\n",
    "\n",
    "\n",
    "def pdfminerextract(pdffile):\n",
    "    try:\n",
    "        # extraction of text from the pdf\n",
    "        text = extract_text(pdffile)\n",
    "        return text\n",
    "    except Exception as e:\n",
    "        print(f\"Exception for file {pdffile}: {e}\")\n",
    "        return ''\n",
    "\n",
    "textdocspdfminer = 'PDFminer/PDFMinerDocs/'\n",
    "# if directory is not present, create it\n",
    "os.makedirs(textdocspdfminer, exist_ok=True)\n",
    "\n",
    "for i in range(0,considerPDFcount):\n",
    "    try:\n",
    "        # pdfs with INQ\n",
    "        filename=considerfile[i]\n",
    "        print(filename)\n",
    "        \n",
    "        # function defined for extraction of text from pdf\n",
    "        extractedtext = pdfminerextract(f'../1.Web Scrapping/PDF/{filename}')\n",
    "        file = os.path.splitext(filename)[0]\n",
    "        # storing the text in directory\n",
    "        with open(os.path.join(textdocspdfminer, f'{file}.txt'), 'w', encoding='utf-8') as f:\n",
    "            f.write(extractedtext)\n",
    "    except Exception as e:\n",
    "        print(f\"Exception for PDF {filename} as {e}\")\n"
   ]
  },
  {
   "cell_type": "markdown",
   "metadata": {},
   "source": [
    "# Finding the number of characters captured by each library"
   ]
  },
  {
   "cell_type": "code",
   "execution_count": 14,
   "metadata": {},
   "outputs": [
    {
     "data": {
      "image/png": "[encoded data removed]",
      "text/plain": [
       "<Figure size 1000x600 with 1 Axes>"
      ]
     },
     "metadata": {},
     "output_type": "display_data"
    }
   ],
   "source": [
    "import os\n",
    "import matplotlib.pyplot as plt\n",
    "\n",
    "def countchars(dirpath):\n",
    "    # all the files from directory\n",
    "    txtfiles = [f for f in os.listdir(dirpath)]\n",
    "\n",
    "    # altogether total characters in the text file\n",
    "    countchar = 0\n",
    "    for filename in txtfiles:\n",
    "        filepath = os.path.join(dirpath, filename)\n",
    "        with open(filepath, 'r', encoding='utf-8') as file:\n",
    "            countchar += len(file.read())\n",
    "    \n",
    "    return countchar\n",
    "\n",
    "def display(directories):\n",
    "    \n",
    "    dirnames = []\n",
    "    charcount = []\n",
    "\n",
    "    for directory in directories:\n",
    "        # obtaining the names of the directory\n",
    "        dirname = os.path.basename(directory)\n",
    "        \n",
    "        # finding the total character\n",
    "        countchar = countchars(directory)\n",
    "        \n",
    "        # storing the obtained results\n",
    "        dirnames.append(dirname)\n",
    "        charcount.append(countchar)\n",
    "\n",
    "    # sorting based on the character counts\n",
    "    sort = sorted(zip(charcount, dirnames))\n",
    "    charcount, dirnames = zip(*sort)\n",
    "\n",
    "    # visualising the data\n",
    "    plt.figure(figsize=(10, 6))\n",
    "    plt.bar(dirnames, charcount, color='lightgreen', width=0.3)\n",
    "    plt.xlabel('Directory')\n",
    "    plt.ylabel('Total characters')\n",
    "    plt.title('Total character count per library')\n",
    "    plt.xticks(rotation=45, ha='right')  \n",
    "    plt.show()\n",
    "\n",
    "# list of directories\n",
    "directories = [\n",
    "    '../2.PDFExtraction/PYPDF1/PYPDF1docs',\n",
    "    '../2.PDFExtraction/PYPDF2/PYPDF2docs',\n",
    "    '../2.PDFExtraction/PymuPDF/PymuPDFDocs',\n",
    "    '../2.PDFExtraction/Pytesseract/PytesseractDocs',\n",
    "    '../2.PDFExtraction/PDFMiner/PDFMinerdocs',\n",
    "    '../2.PDFExtraction/TIKA/TIKAdocs',\n",
    "    \n",
    "]\n",
    "\n",
    "display(directories)\n"
   ]
  }
 ],
 "metadata": {
  "kernelspec": {
   "display_name": "Python 3",
   "language": "python",
   "name": "python3"
  },
  "language_info": {
   "codemirror_mode": {
    "name": "ipython",
    "version": 3
   },
   "file_extension": ".py",
   "mimetype": "text/x-python",
   "name": "python",
   "nbconvert_exporter": "python",
   "pygments_lexer": "ipython3",
   "version": "3.12.4"
  }
 },
 "nbformat": 4,
 "nbformat_minor": 2
}
